{
 "cells": [
  {
   "cell_type": "markdown",
   "id": "5e183769-4187-4139-841c-78a299656962",
   "metadata": {},
   "source": [
    "# Data Science Tools and Ecosystem"
   ]
  },
  {
   "cell_type": "markdown",
   "id": "f5ae3456-4d1e-4c32-87b9-dff2708289ba",
   "metadata": {},
   "source": [
    "In this notebook, Data Science Tools and Ecosystem are summarized"
   ]
  },
  {
   "cell_type": "markdown",
   "id": "d55b5f70-6f87-427f-8c6b-f159b850f20f",
   "metadata": {},
   "source": [
    "**Objectives:**"
   ]
  },
  {
   "cell_type": "markdown",
   "id": "3ba7b41e-7fac-477d-bb46-553f46d8d1ff",
   "metadata": {},
   "source": [
    "* Popular languages used in Data science\n",
    "* Commonly used libraries in data science\n",
    "* Data science tools"
   ]
  },
  {
   "cell_type": "markdown",
   "id": "5c958562-89d5-43ca-834c-b0c26971c631",
   "metadata": {},
   "source": [
    "Some of the popular languages that Data Scientists use are:"
   ]
  },
  {
   "cell_type": "markdown",
   "id": "ad32c6a8-19c4-49a5-a891-ff923c77d2bc",
   "metadata": {},
   "source": [
    "1. Python\n",
    "2. R\n",
    "3. SQL"
   ]
  },
  {
   "cell_type": "markdown",
   "id": "d72404e8-ef03-4b40-a7f1-fba9cb706f96",
   "metadata": {},
   "source": [
    "Some of the commonly used libraries used by Data Scientists include:"
   ]
  },
  {
   "cell_type": "markdown",
   "id": "8f2cffac-3f74-421e-b104-f76ed6e66e0f",
   "metadata": {},
   "source": [
    "1. Pandas\n",
    "2. Matplotlib\n",
    "3. NumPy\n",
    "4. Scikit-learn"
   ]
  },
  {
   "cell_type": "markdown",
   "id": "b005176e-0517-4799-ad11-8ea5331398ba",
   "metadata": {},
   "source": [
    "| Data Science Tools |\n",
    "|-----|\n",
    "|Tensorflow|\n",
    "|Hadoop|\n",
    "|RStudio|\n",
    "|Anaconda|\n",
    "|MySQL|"
   ]
  },
  {
   "cell_type": "markdown",
   "id": "0551dcf3-9ed5-4aae-b070-a0fb83c14884",
   "metadata": {},
   "source": [
    "### Below are a few examples of evaluating arithmetic expressions in Python"
   ]
  },
  {
   "cell_type": "markdown",
   "id": "0f4cb406-ca00-4940-81d2-e2024f2db97b",
   "metadata": {},
   "source": [
    "This a simple arithmetic expression to mutiply then add integers"
   ]
  },
  {
   "cell_type": "code",
   "execution_count": 3,
   "id": "3fb940c0-7c7a-4170-b0b3-0222e87a6af3",
   "metadata": {},
   "outputs": [
    {
     "data": {
      "text/plain": [
       "17"
      ]
     },
     "execution_count": 3,
     "metadata": {},
     "output_type": "execute_result"
    }
   ],
   "source": [
    "(3*4)+5"
   ]
  },
  {
   "cell_type": "markdown",
   "id": "dbdbcb56-50e4-456f-a5ce-af52354889bb",
   "metadata": {},
   "source": [
    "This will convert 200 minutes to hours by diving by 60"
   ]
  },
  {
   "cell_type": "code",
   "execution_count": 4,
   "id": "64a5f83c-91ee-4c65-89d2-6a55faff7e79",
   "metadata": {},
   "outputs": [
    {
     "data": {
      "text/plain": [
       "3.3333333333333335"
      ]
     },
     "execution_count": 4,
     "metadata": {},
     "output_type": "execute_result"
    }
   ],
   "source": [
    "200/60"
   ]
  },
  {
   "cell_type": "markdown",
   "id": "c77721bf-104f-4147-9840-ccae08b6597b",
   "metadata": {},
   "source": [
    "## Author\n",
    "Sri Ragul Aditya M"
   ]
  },
  {
   "cell_type": "code",
   "execution_count": null,
   "id": "94b04fd1-50cc-4d19-8e7e-57b8c54230e2",
   "metadata": {},
   "outputs": [],
   "source": []
  }
 ],
 "metadata": {
  "kernelspec": {
   "display_name": "Python 3 (ipykernel)",
   "language": "python",
   "name": "python3"
  },
  "language_info": {
   "codemirror_mode": {
    "name": "ipython",
    "version": 3
   },
   "file_extension": ".py",
   "mimetype": "text/x-python",
   "name": "python",
   "nbconvert_exporter": "python",
   "pygments_lexer": "ipython3",
   "version": "3.11.9"
  }
 },
 "nbformat": 4,
 "nbformat_minor": 5
}
